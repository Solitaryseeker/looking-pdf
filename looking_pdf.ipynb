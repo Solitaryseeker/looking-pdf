{
 "cells": [
  {
   "metadata": {
    "ExecuteTime": {
     "end_time": "2025-06-10T02:34:13.977195Z",
     "start_time": "2025-06-10T02:34:13.783501Z"
    }
   },
   "cell_type": "code",
   "source": [
    "import pikepdf\n",
    "old_pdf = pikepdf.Pdf.open(\"Pythontutorial_EDIT.pdf\")\n",
    "no_extr = pikepdf.Permissions(extract=False)\n",
    "old_pdf.save(\"pro_new.pdf\",encryption=pikepdf.Encryption(user=\"9090ro\",owner=\"rohit\",allow=no_extr))"
   ],
   "id": "7b68ab021a126031",
   "outputs": [],
   "execution_count": 7
  },
  {
   "metadata": {},
   "cell_type": "code",
   "outputs": [],
   "execution_count": null,
   "source": "",
   "id": "1996550d4d47e471"
  }
 ],
 "metadata": {
  "kernelspec": {
   "display_name": "Python 3",
   "language": "python",
   "name": "python3"
  },
  "language_info": {
   "codemirror_mode": {
    "name": "ipython",
    "version": 2
   },
   "file_extension": ".py",
   "mimetype": "text/x-python",
   "name": "python",
   "nbconvert_exporter": "python",
   "pygments_lexer": "ipython2",
   "version": "2.7.6"
  }
 },
 "nbformat": 4,
 "nbformat_minor": 5
}
